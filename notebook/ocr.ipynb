{
 "cells": [
  {
   "cell_type": "markdown",
   "id": "0752ea0c-fae5-4a90-a11c-2766ae6eb6ef",
   "metadata": {},
   "source": [
    "<font size=5> Optical Character Recognition with help of R-tree </font>\n",
    "\n",
    "Aim:\n",
    "\n",
    "steps:\n",
    "1. convert pdf to image, if multiple pdf pages then each page into the individual image file.\n",
    "2. convert the colour image into a grayscale image\n",
    "3. read/create target bounding boxes\n",
    "4. with help of tesseract to recognize the character in the image\n",
    "5. create an r-tree index for each bounding box of tesseract output data.\n",
    "6. find the intersection of the target bounding box in an r-tree index.\n",
    "7. get the required target index from the data frame, continue processing text if necessary.\n",
    "8. repeat above step remaining pages."
   ]
  },
  {
   "cell_type": "markdown",
   "id": "00a0370e-0d7b-4df7-b9a1-e68747e16fb7",
   "metadata": {},
   "source": [
    "# Import library"
   ]
  },
  {
   "cell_type": "code",
   "execution_count": 50,
   "id": "29451a42-2fa0-47fe-bb52-4286a192924d",
   "metadata": {},
   "outputs": [],
   "source": [
    "import pandas as pd\n",
    "import numpy as np\n",
    "import matplotlib.pyplot as plt\n",
    "import seaborn as sns\n",
    "\n",
    "import rtree\n",
    "import geopandas as gpd\n",
    "from shapely.geometry import Polygon,LineString\n",
    "import pytesseract\n",
    "from pytesseract import Output\n",
    "import cv2\n",
    "from pdf2image import convert_from_path\n",
    "from PIL import Image\n",
    "\n",
    "import os\n",
    "import re\n",
    "\n",
    "pd.options.display.max_columns = 100"
   ]
  },
  {
   "cell_type": "markdown",
   "id": "e7ad3474-4816-4117-8b9d-74722e598980",
   "metadata": {},
   "source": [
    "# Import file"
   ]
  },
  {
   "cell_type": "code",
   "execution_count": 2,
   "id": "59331fe4-ed5e-4d3c-b8f6-559d1347bbb2",
   "metadata": {},
   "outputs": [],
   "source": [
    "file = \"notebook/input/invoice3.pdf\"\n",
    "path = os.path.join(os.getcwd(),file)\n",
    "\n",
    "target_path = os.path.join(os.getcwd(),'input')"
   ]
  },
  {
   "cell_type": "code",
   "execution_count": 3,
   "id": "28b766fe-7c32-4523-92be-749eea3fc563",
   "metadata": {},
   "outputs": [
    {
     "data": {
      "text/plain": [
       "'/home/sudhir/AI/practice/ocr/notebook'"
      ]
     },
     "execution_count": 3,
     "metadata": {},
     "output_type": "execute_result"
    }
   ],
   "source": [
    "os.getcwd()"
   ]
  },
  {
   "cell_type": "markdown",
   "id": "90dcb978-cac1-4598-94e6-31c64d49091d",
   "metadata": {},
   "source": [
    "# FileManager\n",
    "\n",
    "1. PDF to Image convert\n",
    "2. read image\n",
    "3. show image"
   ]
  },
  {
   "cell_type": "code",
   "execution_count": 4,
   "id": "10582bca-2494-4a9d-b2f4-919425bbff7a",
   "metadata": {},
   "outputs": [],
   "source": [
    "class FileManager:\n",
    "    \"\"\"\n",
    "    File manager\n",
    "    \n",
    "    \"\"\"\n",
    "    \n",
    "    def read_image(self, file, path):\n",
    "        \"\"\"\n",
    "        Read image with opencv library\n",
    "        \"\"\"\n",
    "        # file path + name\n",
    "        filename = os.path.join(path,file)\n",
    "\n",
    "        # img = Image.open(filename)\n",
    "        img = cv2.imread(filename)\n",
    "        \n",
    "        # print image size\n",
    "        print('Image size: ',img.shape)\n",
    "        \n",
    "        return img\n",
    "    \n",
    "    def show_image(self, img, small_size = (1000, 600)):\n",
    "        # show image file with imshow method open cv \n",
    "        # cv2.namedWindow(\"img\", cv2.WINDOW_NORMAL)\n",
    "        # resize and show image\n",
    "        if small_size:\n",
    "            cv2.imshow('img',cv2.resize(img,small_size))\n",
    "        else:\n",
    "            cv2.imshow('img',img)\n",
    "        cv2.waitKey(0)\n",
    "        cv2.destroyAllWindows()\n",
    "    \n",
    "    def pdf_2_image(self,file, path):\n",
    "        \"\"\"\n",
    "        PDF to image converter\n",
    "        \"\"\"\n",
    "        # target_\n",
    "        filename = os.path.join(path,file)\n",
    "\n",
    "        # convert pdf to image\n",
    "        pages = convert_from_path(filename,dpi=200)        \n",
    "\n",
    "        # save each page with proper file name\n",
    "        list_pagefilename = []\n",
    "        for img_cnt,page in enumerate(pages):\n",
    "            \n",
    "            # new file name for image\n",
    "            pagefilename = file+\"_page_\"+str(img_cnt+1)+\".jpg\"\n",
    "            pagefilename = os.path.join(path,pagefilename)\n",
    "            list_pagefilename.append(pagefilename)\n",
    "\n",
    "            # Save the image of the page in system\n",
    "            page.save(pagefilename, 'JPEG')\n",
    "\n",
    "        return list_pagefilename"
   ]
  },
  {
   "cell_type": "code",
   "execution_count": 5,
   "id": "fbfbc5fe-0412-437e-9d78-7a39a5cb264f",
   "metadata": {},
   "outputs": [
    {
     "name": "stdout",
     "output_type": "stream",
     "text": [
      "Image size:  (2339, 1654, 3)\n"
     ]
    }
   ],
   "source": [
    "filename = \"page_1.jpg\"\n",
    "img = FileManager().read_image(filename, target_path)"
   ]
  },
  {
   "cell_type": "code",
   "execution_count": 6,
   "id": "b6f2736b-2c40-4e5a-96f2-b10cbcd3edc0",
   "metadata": {},
   "outputs": [],
   "source": [
    "FileManager().show_image(img)"
   ]
  },
  {
   "cell_type": "markdown",
   "id": "7d111a8f-19f1-4f7a-9c7b-21f8afaf7140",
   "metadata": {},
   "source": [
    "# Tesseract"
   ]
  },
  {
   "cell_type": "markdown",
   "id": "4cb15a67-6294-4a9c-b8af-b5e2e0329be3",
   "metadata": {},
   "source": [
    "Among the data returned by pytesseract.image_to_data():\n",
    "* left is the distance from the upper-left corner of the bounding box, to the left border of the image.\n",
    "* top is the distance from the upper-left corner of the bounding box, to the top border of the image.\n",
    "* width and height are the width and height of the bounding box.\n",
    "* conf is the model's confidence for the prediction for the word within that bounding box. If conf is -1, that means that the corresponding bounding box contains a block of text, rather than just a single word."
   ]
  },
  {
   "cell_type": "code",
   "execution_count": 7,
   "id": "97ab589a-0a9a-4fd0-be6d-52d3f5e1ad5f",
   "metadata": {},
   "outputs": [],
   "source": [
    "class OCRwithRtree:\n",
    "    \"\"\"\n",
    "    Optical Character Recognition with help of R-tree.\n",
    "    \n",
    "    \"\"\"\n",
    "    \n",
    "    def grayscale(self,img):\n",
    "        img2 = cv2.cvtColor(img, cv2.COLOR_BGR2GRAY)\n",
    "        return img2\n",
    "    \n",
    "    def apply_ocr(self,img):\n",
    "        \"\"\"\n",
    "        Apply OCR on image \n",
    "        \"\"\"\n",
    "        data = pytesseract.image_to_data(img, output_type=Output.DICT)\n",
    "        \n",
    "        return data\n",
    "    \n",
    "    def bbox_on_ocr(self,data,img):\n",
    "        \n",
    "        # len\n",
    "        n_boxes = len(data['level'])\n",
    "        for i in range(n_boxes):\n",
    "            if data['conf'][i] != '-1':\n",
    "                (x,y,w,h) = (data['left'][i],data['top'][i],data['width'][i],data['height'][i])\n",
    "                cv2.rectangle(img, (x, y), (x+w, y+h), (0, 255, 0), 2)\n",
    "        return img"
   ]
  },
  {
   "cell_type": "code",
   "execution_count": 8,
   "id": "40019a41-b6ef-4376-bed6-9c5037838b90",
   "metadata": {},
   "outputs": [],
   "source": [
    "data = OCRwithRtree().apply_ocr(img)"
   ]
  },
  {
   "cell_type": "code",
   "execution_count": 9,
   "id": "8faf18e8-b9f8-4226-9960-5e6c5f3dfb5a",
   "metadata": {},
   "outputs": [],
   "source": [
    "img = OCRwithRtree().bbox_on_ocr(data,img)\n",
    "FileManager().show_image(img)"
   ]
  },
  {
   "cell_type": "code",
   "execution_count": 10,
   "id": "240626b3-99aa-4bc6-b73c-fe23c4a51052",
   "metadata": {},
   "outputs": [],
   "source": [
    "def convert_to_dataframe(data):\n",
    "    # dict to dataframe\n",
    "    df = pd.DataFrame(data)\n",
    "    \n",
    "    # remove lower confidence data\n",
    "    df_st= df.query('conf != \"-1\"').reset_index(drop=True)\n",
    "    \n",
    "    print('Average performance of ocr:',round(df_st['conf'].mean(),3))\n",
    "    \n",
    "    # bounding box xmax,ymax calculation\n",
    "    df_st['wloc'] = df_st['left'] + df_st['width'] \n",
    "    df_st['hloc'] = df_st['top'] + df_st['height']\n",
    "    \n",
    "    return df_st"
   ]
  },
  {
   "cell_type": "code",
   "execution_count": 11,
   "id": "ba9b717c-0115-4229-8476-d095ed7d1257",
   "metadata": {},
   "outputs": [
    {
     "name": "stdout",
     "output_type": "stream",
     "text": [
      "Average performance of ocr: 90.331\n"
     ]
    }
   ],
   "source": [
    "df = convert_to_dataframe(data)"
   ]
  },
  {
   "cell_type": "markdown",
   "id": "58ddcaf2-ce99-4ad4-849b-a5bc6838c3c9",
   "metadata": {},
   "source": [
    "# Rtree index"
   ]
  },
  {
   "cell_type": "code",
   "execution_count": 12,
   "id": "2f9ceeac-47f5-4560-a8fb-fcfc889af6d7",
   "metadata": {},
   "outputs": [],
   "source": [
    "def create_rtree_index(df):\n",
    "    \n",
    "    # intialize rtree \n",
    "    rindex = rtree.index.Index()\n",
    "    \n",
    "    # insert bbox to  rtree from data frame\n",
    "    for idx in range(df.shape[0]):\n",
    "        # (left, bottom, right, top)\n",
    "        loc = tuple(df.loc[idx,['left','top','wloc','hloc']])\n",
    "        rindex.insert(idx,loc)\n",
    "    \n",
    "    return rindex"
   ]
  },
  {
   "cell_type": "code",
   "execution_count": 13,
   "id": "815d27a6-6937-423f-81de-5765348742d6",
   "metadata": {},
   "outputs": [],
   "source": [
    "def intersection_of_bbox(rindex,loc,df,normalize=None):\n",
    "    inter_idx = [w for w in rindex.intersection(loc)]\n",
    "    \n",
    "    print('inersection index: ',inter_idx)\n",
    "    df_tmp = df[df.index.isin(inter_idx)]\n",
    "    \n",
    "    # normalize the data\n",
    "    text = ''\n",
    "    if normalize:\n",
    "        df_sort = df_tmp.sort_values(by=['top','left'])\n",
    "        text = ' '.join(df_sort['text'].values)\n",
    "        print('The text intersect with bbox is: ',text)\n",
    "    return df_tmp,text"
   ]
  },
  {
   "cell_type": "code",
   "execution_count": 14,
   "id": "8514bc22-99a6-4a5e-acb6-723457045f0d",
   "metadata": {},
   "outputs": [],
   "source": [
    "rindex = create_rtree_index(df)"
   ]
  },
  {
   "cell_type": "code",
   "execution_count": 15,
   "id": "d3af0ecc-5b0b-4c1e-90fd-b04bfe2c45cc",
   "metadata": {},
   "outputs": [
    {
     "name": "stdout",
     "output_type": "stream",
     "text": [
      "inersection index:  []\n",
      "The text intersect with bbox is:  \n"
     ]
    }
   ],
   "source": [
    "# from\n",
    "loc = (0,0, 10,10)\n",
    "df_tmp,text = intersection_of_bbox(rindex,loc,df,normalize=True)"
   ]
  },
  {
   "cell_type": "markdown",
   "id": "c0bd2a88-9f97-48d8-80b0-0b15c2a66305",
   "metadata": {},
   "source": [
    "## Query target bounding box\n",
    "1. positive target bouding box\n",
    "2. enclosed target bounding box"
   ]
  },
  {
   "cell_type": "code",
   "execution_count": 16,
   "id": "fd1a3ef4-eea3-4a7b-93ed-309eef6f1600",
   "metadata": {},
   "outputs": [
    {
     "name": "stdout",
     "output_type": "stream",
     "text": [
      "inersection index:  [2, 3, 5, 4, 34, 35]\n",
      "The text intersect with bbox is:  From: - DEMO Sliced Suite 5A-1204\n"
     ]
    }
   ],
   "source": [
    "# from\n",
    "loc = (120,346,272,435)\n",
    "df_tmp,text = intersection_of_bbox(rindex,loc,df,normalize=True)"
   ]
  },
  {
   "cell_type": "code",
   "execution_count": 17,
   "id": "407b1880-36cd-432d-9ebc-949041926835",
   "metadata": {},
   "outputs": [
    {
     "name": "stdout",
     "output_type": "stream",
     "text": [
      "inersection index:  [58, 59, 60, 62, 61, 65, 64, 67]\n",
      "The text intersect with bbox is:  To: Test Business Somewhere 123 Melbourne, VIC test@test.com\n"
     ]
    }
   ],
   "source": [
    "# from\n",
    "loc = (118,651, 273, 809)\n",
    "df_tmp,text = intersection_of_bbox(rindex,loc,df,normalize=True)"
   ]
  },
  {
   "cell_type": "code",
   "execution_count": 18,
   "id": "b2e8fff6-d759-461d-89e8-f1d6d477dd96",
   "metadata": {},
   "outputs": [
    {
     "data": {
      "text/html": [
       "<div>\n",
       "<style scoped>\n",
       "    .dataframe tbody tr th:only-of-type {\n",
       "        vertical-align: middle;\n",
       "    }\n",
       "\n",
       "    .dataframe tbody tr th {\n",
       "        vertical-align: top;\n",
       "    }\n",
       "\n",
       "    .dataframe thead th {\n",
       "        text-align: right;\n",
       "    }\n",
       "</style>\n",
       "<table border=\"1\" class=\"dataframe\">\n",
       "  <thead>\n",
       "    <tr style=\"text-align: right;\">\n",
       "      <th></th>\n",
       "      <th>level</th>\n",
       "      <th>page_num</th>\n",
       "      <th>block_num</th>\n",
       "      <th>par_num</th>\n",
       "      <th>line_num</th>\n",
       "      <th>word_num</th>\n",
       "      <th>left</th>\n",
       "      <th>top</th>\n",
       "      <th>width</th>\n",
       "      <th>height</th>\n",
       "      <th>conf</th>\n",
       "      <th>text</th>\n",
       "      <th>wloc</th>\n",
       "      <th>hloc</th>\n",
       "    </tr>\n",
       "  </thead>\n",
       "  <tbody>\n",
       "    <tr>\n",
       "      <th>58</th>\n",
       "      <td>5</td>\n",
       "      <td>1</td>\n",
       "      <td>28</td>\n",
       "      <td>1</td>\n",
       "      <td>5</td>\n",
       "      <td>1</td>\n",
       "      <td>118</td>\n",
       "      <td>651</td>\n",
       "      <td>36</td>\n",
       "      <td>19</td>\n",
       "      <td>96</td>\n",
       "      <td>To:</td>\n",
       "      <td>154</td>\n",
       "      <td>670</td>\n",
       "    </tr>\n",
       "    <tr>\n",
       "      <th>59</th>\n",
       "      <td>5</td>\n",
       "      <td>1</td>\n",
       "      <td>28</td>\n",
       "      <td>1</td>\n",
       "      <td>6</td>\n",
       "      <td>1</td>\n",
       "      <td>118</td>\n",
       "      <td>686</td>\n",
       "      <td>47</td>\n",
       "      <td>19</td>\n",
       "      <td>96</td>\n",
       "      <td>Test</td>\n",
       "      <td>165</td>\n",
       "      <td>705</td>\n",
       "    </tr>\n",
       "    <tr>\n",
       "      <th>60</th>\n",
       "      <td>5</td>\n",
       "      <td>1</td>\n",
       "      <td>28</td>\n",
       "      <td>1</td>\n",
       "      <td>6</td>\n",
       "      <td>2</td>\n",
       "      <td>174</td>\n",
       "      <td>686</td>\n",
       "      <td>97</td>\n",
       "      <td>19</td>\n",
       "      <td>96</td>\n",
       "      <td>Business</td>\n",
       "      <td>271</td>\n",
       "      <td>705</td>\n",
       "    </tr>\n",
       "    <tr>\n",
       "      <th>61</th>\n",
       "      <td>5</td>\n",
       "      <td>1</td>\n",
       "      <td>28</td>\n",
       "      <td>1</td>\n",
       "      <td>7</td>\n",
       "      <td>1</td>\n",
       "      <td>120</td>\n",
       "      <td>722</td>\n",
       "      <td>38</td>\n",
       "      <td>18</td>\n",
       "      <td>96</td>\n",
       "      <td>123</td>\n",
       "      <td>158</td>\n",
       "      <td>740</td>\n",
       "    </tr>\n",
       "    <tr>\n",
       "      <th>62</th>\n",
       "      <td>5</td>\n",
       "      <td>1</td>\n",
       "      <td>28</td>\n",
       "      <td>1</td>\n",
       "      <td>7</td>\n",
       "      <td>2</td>\n",
       "      <td>167</td>\n",
       "      <td>721</td>\n",
       "      <td>128</td>\n",
       "      <td>19</td>\n",
       "      <td>96</td>\n",
       "      <td>Somewhere</td>\n",
       "      <td>295</td>\n",
       "      <td>740</td>\n",
       "    </tr>\n",
       "    <tr>\n",
       "      <th>64</th>\n",
       "      <td>5</td>\n",
       "      <td>1</td>\n",
       "      <td>28</td>\n",
       "      <td>1</td>\n",
       "      <td>8</td>\n",
       "      <td>1</td>\n",
       "      <td>120</td>\n",
       "      <td>755</td>\n",
       "      <td>118</td>\n",
       "      <td>21</td>\n",
       "      <td>96</td>\n",
       "      <td>Melbourne,</td>\n",
       "      <td>238</td>\n",
       "      <td>776</td>\n",
       "    </tr>\n",
       "    <tr>\n",
       "      <th>65</th>\n",
       "      <td>5</td>\n",
       "      <td>1</td>\n",
       "      <td>28</td>\n",
       "      <td>1</td>\n",
       "      <td>8</td>\n",
       "      <td>2</td>\n",
       "      <td>248</td>\n",
       "      <td>755</td>\n",
       "      <td>39</td>\n",
       "      <td>19</td>\n",
       "      <td>96</td>\n",
       "      <td>VIC</td>\n",
       "      <td>287</td>\n",
       "      <td>774</td>\n",
       "    </tr>\n",
       "    <tr>\n",
       "      <th>67</th>\n",
       "      <td>5</td>\n",
       "      <td>1</td>\n",
       "      <td>28</td>\n",
       "      <td>1</td>\n",
       "      <td>9</td>\n",
       "      <td>1</td>\n",
       "      <td>118</td>\n",
       "      <td>790</td>\n",
       "      <td>155</td>\n",
       "      <td>19</td>\n",
       "      <td>91</td>\n",
       "      <td>test@test.com</td>\n",
       "      <td>273</td>\n",
       "      <td>809</td>\n",
       "    </tr>\n",
       "  </tbody>\n",
       "</table>\n",
       "</div>"
      ],
      "text/plain": [
       "    level  page_num  block_num  par_num  line_num  word_num  left  top  width  \\\n",
       "58      5         1         28        1         5         1   118  651     36   \n",
       "59      5         1         28        1         6         1   118  686     47   \n",
       "60      5         1         28        1         6         2   174  686     97   \n",
       "61      5         1         28        1         7         1   120  722     38   \n",
       "62      5         1         28        1         7         2   167  721    128   \n",
       "64      5         1         28        1         8         1   120  755    118   \n",
       "65      5         1         28        1         8         2   248  755     39   \n",
       "67      5         1         28        1         9         1   118  790    155   \n",
       "\n",
       "    height conf           text  wloc  hloc  \n",
       "58      19   96            To:   154   670  \n",
       "59      19   96           Test   165   705  \n",
       "60      19   96       Business   271   705  \n",
       "61      18   96            123   158   740  \n",
       "62      19   96      Somewhere   295   740  \n",
       "64      21   96     Melbourne,   238   776  \n",
       "65      19   96            VIC   287   774  \n",
       "67      19   91  test@test.com   273   809  "
      ]
     },
     "execution_count": 18,
     "metadata": {},
     "output_type": "execute_result"
    }
   ],
   "source": [
    "df_tmp"
   ]
  },
  {
   "cell_type": "markdown",
   "id": "f788e8eb-18a7-467f-8849-0f54351d9145",
   "metadata": {},
   "source": [
    "## Problem 2"
   ]
  },
  {
   "cell_type": "code",
   "execution_count": 19,
   "id": "a3847a22-659e-404d-9df7-4e675144baeb",
   "metadata": {},
   "outputs": [],
   "source": [
    "# filename = 'sales_invoice.pdf'\n",
    "# target_path = os.path.join(os.getcwd(),'input')\n",
    "# list_pagenames = FileManager().pdf_2_image(filename,target_path)"
   ]
  },
  {
   "cell_type": "code",
   "execution_count": 20,
   "id": "2db9cf14-7738-415c-bcf5-7ad142dbb80a",
   "metadata": {},
   "outputs": [
    {
     "name": "stdout",
     "output_type": "stream",
     "text": [
      "Image size:  (2200, 1700, 3)\n"
     ]
    }
   ],
   "source": [
    "filename = \"sales_invoice.pdf_page_1.jpg\"\n",
    "target_path = os.path.join(os.getcwd(),'input')\n",
    "img = FileManager().read_image(filename, target_path)"
   ]
  },
  {
   "cell_type": "code",
   "execution_count": 21,
   "id": "7e2723f0-8488-46f5-87da-33379a52dcf7",
   "metadata": {},
   "outputs": [],
   "source": [
    "FileManager().show_image(img)"
   ]
  },
  {
   "cell_type": "code",
   "execution_count": 22,
   "id": "c503aa74-480a-44f4-b6d6-9bdaf80fa89b",
   "metadata": {},
   "outputs": [],
   "source": [
    "data = OCRwithRtree().apply_ocr(img)"
   ]
  },
  {
   "cell_type": "code",
   "execution_count": 23,
   "id": "dcaa180d-51cd-44ff-b994-25cf1afd7e2e",
   "metadata": {},
   "outputs": [
    {
     "name": "stdout",
     "output_type": "stream",
     "text": [
      "Average performance of ocr: 91.039\n"
     ]
    }
   ],
   "source": [
    "df = convert_to_dataframe(data)"
   ]
  },
  {
   "cell_type": "code",
   "execution_count": 24,
   "id": "86ebaa05-7bde-4f76-b4eb-c648c8cc0048",
   "metadata": {},
   "outputs": [],
   "source": [
    "rindex = create_rtree_index(df)"
   ]
  },
  {
   "cell_type": "code",
   "execution_count": 25,
   "id": "b0b61e70-3cb2-41cb-9bdd-9b35f04daddd",
   "metadata": {},
   "outputs": [
    {
     "name": "stdout",
     "output_type": "stream",
     "text": [
      "inersection index:  [15, 16, 14, 19, 18, 22, 26, 27, 32, 31, 33, 34]\n",
      "The text intersect with bbox is:  Ltd ABC Pvt 100,10\" main Bangalore Phone: 123456789 12345 Fax: Website: www.abc.com\n"
     ]
    }
   ],
   "source": [
    "# from\n",
    "loc = (109,147, 380,344)\n",
    "df_tmp,text = intersection_of_bbox(rindex,loc,df,normalize=True)"
   ]
  },
  {
   "cell_type": "code",
   "execution_count": 26,
   "id": "c660c705-6069-45b9-93b7-fd19828c6f5a",
   "metadata": {},
   "outputs": [
    {
     "data": {
      "text/html": [
       "<div>\n",
       "<style scoped>\n",
       "    .dataframe tbody tr th:only-of-type {\n",
       "        vertical-align: middle;\n",
       "    }\n",
       "\n",
       "    .dataframe tbody tr th {\n",
       "        vertical-align: top;\n",
       "    }\n",
       "\n",
       "    .dataframe thead th {\n",
       "        text-align: right;\n",
       "    }\n",
       "</style>\n",
       "<table border=\"1\" class=\"dataframe\">\n",
       "  <thead>\n",
       "    <tr style=\"text-align: right;\">\n",
       "      <th></th>\n",
       "      <th>level</th>\n",
       "      <th>page_num</th>\n",
       "      <th>block_num</th>\n",
       "      <th>par_num</th>\n",
       "      <th>line_num</th>\n",
       "      <th>word_num</th>\n",
       "      <th>left</th>\n",
       "      <th>top</th>\n",
       "      <th>width</th>\n",
       "      <th>height</th>\n",
       "      <th>conf</th>\n",
       "      <th>text</th>\n",
       "      <th>wloc</th>\n",
       "      <th>hloc</th>\n",
       "    </tr>\n",
       "  </thead>\n",
       "  <tbody>\n",
       "    <tr>\n",
       "      <th>14</th>\n",
       "      <td>5</td>\n",
       "      <td>1</td>\n",
       "      <td>15</td>\n",
       "      <td>1</td>\n",
       "      <td>1</td>\n",
       "      <td>1</td>\n",
       "      <td>109</td>\n",
       "      <td>147</td>\n",
       "      <td>74</td>\n",
       "      <td>27</td>\n",
       "      <td>96</td>\n",
       "      <td>ABC</td>\n",
       "      <td>183</td>\n",
       "      <td>174</td>\n",
       "    </tr>\n",
       "    <tr>\n",
       "      <th>15</th>\n",
       "      <td>5</td>\n",
       "      <td>1</td>\n",
       "      <td>15</td>\n",
       "      <td>1</td>\n",
       "      <td>1</td>\n",
       "      <td>2</td>\n",
       "      <td>198</td>\n",
       "      <td>147</td>\n",
       "      <td>51</td>\n",
       "      <td>26</td>\n",
       "      <td>94</td>\n",
       "      <td>Pvt</td>\n",
       "      <td>249</td>\n",
       "      <td>173</td>\n",
       "    </tr>\n",
       "    <tr>\n",
       "      <th>16</th>\n",
       "      <td>5</td>\n",
       "      <td>1</td>\n",
       "      <td>15</td>\n",
       "      <td>1</td>\n",
       "      <td>1</td>\n",
       "      <td>3</td>\n",
       "      <td>262</td>\n",
       "      <td>146</td>\n",
       "      <td>47</td>\n",
       "      <td>28</td>\n",
       "      <td>90</td>\n",
       "      <td>Ltd</td>\n",
       "      <td>309</td>\n",
       "      <td>174</td>\n",
       "    </tr>\n",
       "    <tr>\n",
       "      <th>18</th>\n",
       "      <td>5</td>\n",
       "      <td>1</td>\n",
       "      <td>15</td>\n",
       "      <td>2</td>\n",
       "      <td>1</td>\n",
       "      <td>1</td>\n",
       "      <td>111</td>\n",
       "      <td>187</td>\n",
       "      <td>92</td>\n",
       "      <td>23</td>\n",
       "      <td>72</td>\n",
       "      <td>100,10\"</td>\n",
       "      <td>203</td>\n",
       "      <td>210</td>\n",
       "    </tr>\n",
       "    <tr>\n",
       "      <th>19</th>\n",
       "      <td>5</td>\n",
       "      <td>1</td>\n",
       "      <td>15</td>\n",
       "      <td>2</td>\n",
       "      <td>1</td>\n",
       "      <td>2</td>\n",
       "      <td>214</td>\n",
       "      <td>189</td>\n",
       "      <td>55</td>\n",
       "      <td>18</td>\n",
       "      <td>96</td>\n",
       "      <td>main</td>\n",
       "      <td>269</td>\n",
       "      <td>207</td>\n",
       "    </tr>\n",
       "    <tr>\n",
       "      <th>22</th>\n",
       "      <td>5</td>\n",
       "      <td>1</td>\n",
       "      <td>15</td>\n",
       "      <td>3</td>\n",
       "      <td>1</td>\n",
       "      <td>1</td>\n",
       "      <td>111</td>\n",
       "      <td>218</td>\n",
       "      <td>115</td>\n",
       "      <td>32</td>\n",
       "      <td>96</td>\n",
       "      <td>Bangalore</td>\n",
       "      <td>226</td>\n",
       "      <td>250</td>\n",
       "    </tr>\n",
       "    <tr>\n",
       "      <th>26</th>\n",
       "      <td>5</td>\n",
       "      <td>1</td>\n",
       "      <td>15</td>\n",
       "      <td>4</td>\n",
       "      <td>1</td>\n",
       "      <td>1</td>\n",
       "      <td>110</td>\n",
       "      <td>257</td>\n",
       "      <td>76</td>\n",
       "      <td>19</td>\n",
       "      <td>95</td>\n",
       "      <td>Phone:</td>\n",
       "      <td>186</td>\n",
       "      <td>276</td>\n",
       "    </tr>\n",
       "    <tr>\n",
       "      <th>27</th>\n",
       "      <td>5</td>\n",
       "      <td>1</td>\n",
       "      <td>15</td>\n",
       "      <td>4</td>\n",
       "      <td>1</td>\n",
       "      <td>2</td>\n",
       "      <td>198</td>\n",
       "      <td>257</td>\n",
       "      <td>129</td>\n",
       "      <td>19</td>\n",
       "      <td>95</td>\n",
       "      <td>123456789</td>\n",
       "      <td>327</td>\n",
       "      <td>276</td>\n",
       "    </tr>\n",
       "    <tr>\n",
       "      <th>31</th>\n",
       "      <td>5</td>\n",
       "      <td>1</td>\n",
       "      <td>15</td>\n",
       "      <td>5</td>\n",
       "      <td>1</td>\n",
       "      <td>1</td>\n",
       "      <td>110</td>\n",
       "      <td>293</td>\n",
       "      <td>45</td>\n",
       "      <td>18</td>\n",
       "      <td>96</td>\n",
       "      <td>Fax:</td>\n",
       "      <td>155</td>\n",
       "      <td>311</td>\n",
       "    </tr>\n",
       "    <tr>\n",
       "      <th>32</th>\n",
       "      <td>5</td>\n",
       "      <td>1</td>\n",
       "      <td>15</td>\n",
       "      <td>5</td>\n",
       "      <td>1</td>\n",
       "      <td>2</td>\n",
       "      <td>167</td>\n",
       "      <td>292</td>\n",
       "      <td>70</td>\n",
       "      <td>19</td>\n",
       "      <td>96</td>\n",
       "      <td>12345</td>\n",
       "      <td>237</td>\n",
       "      <td>311</td>\n",
       "    </tr>\n",
       "    <tr>\n",
       "      <th>33</th>\n",
       "      <td>5</td>\n",
       "      <td>1</td>\n",
       "      <td>15</td>\n",
       "      <td>6</td>\n",
       "      <td>1</td>\n",
       "      <td>1</td>\n",
       "      <td>109</td>\n",
       "      <td>325</td>\n",
       "      <td>99</td>\n",
       "      <td>19</td>\n",
       "      <td>92</td>\n",
       "      <td>Website:</td>\n",
       "      <td>208</td>\n",
       "      <td>344</td>\n",
       "    </tr>\n",
       "    <tr>\n",
       "      <th>34</th>\n",
       "      <td>5</td>\n",
       "      <td>1</td>\n",
       "      <td>15</td>\n",
       "      <td>6</td>\n",
       "      <td>1</td>\n",
       "      <td>2</td>\n",
       "      <td>219</td>\n",
       "      <td>325</td>\n",
       "      <td>161</td>\n",
       "      <td>19</td>\n",
       "      <td>91</td>\n",
       "      <td>www.abc.com</td>\n",
       "      <td>380</td>\n",
       "      <td>344</td>\n",
       "    </tr>\n",
       "  </tbody>\n",
       "</table>\n",
       "</div>"
      ],
      "text/plain": [
       "    level  page_num  block_num  par_num  line_num  word_num  left  top  width  \\\n",
       "14      5         1         15        1         1         1   109  147     74   \n",
       "15      5         1         15        1         1         2   198  147     51   \n",
       "16      5         1         15        1         1         3   262  146     47   \n",
       "18      5         1         15        2         1         1   111  187     92   \n",
       "19      5         1         15        2         1         2   214  189     55   \n",
       "22      5         1         15        3         1         1   111  218    115   \n",
       "26      5         1         15        4         1         1   110  257     76   \n",
       "27      5         1         15        4         1         2   198  257    129   \n",
       "31      5         1         15        5         1         1   110  293     45   \n",
       "32      5         1         15        5         1         2   167  292     70   \n",
       "33      5         1         15        6         1         1   109  325     99   \n",
       "34      5         1         15        6         1         2   219  325    161   \n",
       "\n",
       "    height conf         text  wloc  hloc  \n",
       "14      27   96          ABC   183   174  \n",
       "15      26   94          Pvt   249   173  \n",
       "16      28   90          Ltd   309   174  \n",
       "18      23   72      100,10\"   203   210  \n",
       "19      18   96         main   269   207  \n",
       "22      32   96    Bangalore   226   250  \n",
       "26      19   95       Phone:   186   276  \n",
       "27      19   95    123456789   327   276  \n",
       "31      18   96         Fax:   155   311  \n",
       "32      19   96        12345   237   311  \n",
       "33      19   92     Website:   208   344  \n",
       "34      19   91  www.abc.com   380   344  "
      ]
     },
     "execution_count": 26,
     "metadata": {},
     "output_type": "execute_result"
    }
   ],
   "source": [
    "df_tmp"
   ]
  },
  {
   "cell_type": "code",
   "execution_count": 51,
   "id": "1dc7e317-b418-4dcd-81fb-11d2a964043c",
   "metadata": {},
   "outputs": [
    {
     "data": {
      "text/html": [
       "<div>\n",
       "<style scoped>\n",
       "    .dataframe tbody tr th:only-of-type {\n",
       "        vertical-align: middle;\n",
       "    }\n",
       "\n",
       "    .dataframe tbody tr th {\n",
       "        vertical-align: top;\n",
       "    }\n",
       "\n",
       "    .dataframe thead th {\n",
       "        text-align: right;\n",
       "    }\n",
       "</style>\n",
       "<table border=\"1\" class=\"dataframe\">\n",
       "  <thead>\n",
       "    <tr style=\"text-align: right;\">\n",
       "      <th></th>\n",
       "      <th>level</th>\n",
       "      <th>page_num</th>\n",
       "      <th>block_num</th>\n",
       "      <th>par_num</th>\n",
       "      <th>line_num</th>\n",
       "      <th>word_num</th>\n",
       "      <th>left</th>\n",
       "      <th>top</th>\n",
       "      <th>width</th>\n",
       "      <th>height</th>\n",
       "      <th>conf</th>\n",
       "      <th>text</th>\n",
       "      <th>wloc</th>\n",
       "      <th>hloc</th>\n",
       "    </tr>\n",
       "  </thead>\n",
       "  <tbody>\n",
       "    <tr>\n",
       "      <th>86</th>\n",
       "      <td>5</td>\n",
       "      <td>1</td>\n",
       "      <td>15</td>\n",
       "      <td>13</td>\n",
       "      <td>2</td>\n",
       "      <td>1</td>\n",
       "      <td>1115</td>\n",
       "      <td>1355</td>\n",
       "      <td>122</td>\n",
       "      <td>32</td>\n",
       "      <td>96</td>\n",
       "      <td>SUBTOTAL</td>\n",
       "      <td>1237</td>\n",
       "      <td>1387</td>\n",
       "    </tr>\n",
       "  </tbody>\n",
       "</table>\n",
       "</div>"
      ],
      "text/plain": [
       "    level  page_num  block_num  par_num  line_num  word_num  left   top  \\\n",
       "86      5         1         15       13         2         1  1115  1355   \n",
       "\n",
       "    width  height conf      text  wloc  hloc  \n",
       "86    122      32   96  SUBTOTAL  1237  1387  "
      ]
     },
     "execution_count": 51,
     "metadata": {},
     "output_type": "execute_result"
    }
   ],
   "source": [
    "df.query('text == \"SUBTOTAL\" ')"
   ]
  },
  {
   "cell_type": "code",
   "execution_count": 54,
   "id": "ee46eda4-97f7-479d-90cf-b8b02d15145c",
   "metadata": {
    "tags": []
   },
   "outputs": [
    {
     "data": {
      "text/plain": [
       "array([' ', ' ', ' ', 'SUBTOTAL', '2,325.00', 'Other', 'Comments', 'or',\n",
       "       'Special', 'Instructions', 'TAXABLE', '2,325.00', '1.', 'Total',\n",
       "       'payment', 'due', 'in', '30', 'days', 'TAX', 'RATE', '6.875%',\n",
       "       '2.', 'Please', 'include', 'the', 'invoice', 'number', 'on',\n",
       "       'your', 'check', 'TAX', '159.84', 'S&H', '-', 'OTHER', '-',\n",
       "       'TOTAL', '$', '2,484.84', ' ', 'Make', 'all', 'checks', 'payable',\n",
       "       'to', 'ABC', 'Pvt', 'Ltd', 'If', 'you', 'have', 'any', 'questions',\n",
       "       'about', 'this', 'invoice,', 'please', 'contact', '[Name,',\n",
       "       'Phone', '#,', 'E-mail]', 'Thank', 'You', 'For', 'Your',\n",
       "       'Business!'], dtype=object)"
      ]
     },
     "execution_count": 54,
     "metadata": {},
     "output_type": "execute_result"
    }
   ],
   "source": [
    "df.query(' 890< top > 780')['text'].values"
   ]
  },
  {
   "cell_type": "code",
   "execution_count": 37,
   "id": "cc5f5bac-4148-476f-842c-01403182ae33",
   "metadata": {},
   "outputs": [
    {
     "name": "stdout",
     "output_type": "stream",
     "text": [
      "inersection index:  [124, 7, 66, 67, 68, 69, 75, 76, 83, 82, 11, 86]\n",
      "The text intersect with bbox is:      DESCRIPTION QTY UNIT PRICE 15 150.00 75.00 1   SUBTOTAL\n"
     ]
    }
   ],
   "source": [
    "# from\n",
    "loc = (567,790, 1237, 1387)\n",
    "df_tmp,text = intersection_of_bbox(rindex,loc,df,normalize=True)"
   ]
  },
  {
   "cell_type": "code",
   "execution_count": 29,
   "id": "dd0c3ead-4d18-42ad-967f-17e4b71b0c2d",
   "metadata": {},
   "outputs": [],
   "source": [
    "FileManager().show_image(img,small_size=None)"
   ]
  },
  {
   "cell_type": "markdown",
   "id": "6e029d12-a5df-48dd-a56b-391d5e352fcc",
   "metadata": {},
   "source": [
    "Refrence:\n",
    "\n",
    "1. [bbox stackoverflow](https://stackoverflow.com/questions/20831612/getting-the-bounding-box-of-the-recognized-words-using-python-tesseract)"
   ]
  }
 ],
 "metadata": {
  "kernelspec": {
   "display_name": "Python 3",
   "language": "python",
   "name": "python3"
  },
  "language_info": {
   "codemirror_mode": {
    "name": "ipython",
    "version": 3
   },
   "file_extension": ".py",
   "mimetype": "text/x-python",
   "name": "python",
   "nbconvert_exporter": "python",
   "pygments_lexer": "ipython3",
   "version": "3.8.10"
  }
 },
 "nbformat": 4,
 "nbformat_minor": 5
}
